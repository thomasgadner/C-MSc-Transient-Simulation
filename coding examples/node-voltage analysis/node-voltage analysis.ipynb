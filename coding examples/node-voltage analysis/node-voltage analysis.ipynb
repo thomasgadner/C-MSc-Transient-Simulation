{
 "cells": [
  {
   "cell_type": "code",
   "execution_count": 87,
   "metadata": {},
   "outputs": [],
   "source": [
    "import matplotlib as mpl\n",
    "import matplotlib.pyplot as plt\n",
    "import networkx as nx\n",
    "import json\n",
    "import numpy as np\n"
   ]
  },
  {
   "cell_type": "code",
   "execution_count": 91,
   "metadata": {},
   "outputs": [
    {
     "name": "stdout",
     "output_type": "stream",
     "text": [
      "[[0.  0.  0.  0.1 0.  0. ]\n",
      " [0.1 0.  0.1 0.1 0.  0. ]\n",
      " [0.  0.  0.  0.1 0.  0. ]\n",
      " [0.1 0.  0.  0.  0.  0. ]\n",
      " [0.  0.  0.  0.  0.  0. ]\n",
      " [0.  0.  0.  0.  0.  0. ]]\n"
     ]
    }
   ],
   "source": [
    "# Create a List to parse the Netlist \n",
    "cir = []\n",
    "\n",
    "with open('net.txt') as f:\n",
    "    lines = f.readlines() # list containing lines of file\n",
    "    for line in lines:\n",
    "        line = line.strip() # remove leading/trailing white spaces\n",
    "        data = [item.strip() for item in line.split(' ')] #extract purse data     \n",
    "        cir.append(data) # append it to cir\n",
    "\n",
    "\n",
    "# Create a directed graph Gd\n",
    "G_d = nx.DiGraph()\n",
    "branches = len(cir) #number of Branches \n",
    "Y = np.zeros((branches,branches))\n",
    "# Create Aa and Y\n",
    "\n",
    "for item in cir:\n",
    "    i = int(item[1])\n",
    "    j = int(item[2])\n",
    "    # Create Aa\n",
    "    G_d.add_edge(i,j)\n",
    "    # Generate Add. Matrix\n",
    "    if('R' in item[0]):\n",
    "        Y[i,j] = (1/int(item[3]))\n",
    "    elif('I'in item[0]):\n",
    "        Y[i,j] = (1/int(item[3]))\n",
    "    else:\n",
    "        print('Error')\n",
    "\n"
   ]
  },
  {
   "cell_type": "code",
   "execution_count": 89,
   "metadata": {},
   "outputs": [
    {
     "name": "stdout",
     "output_type": "stream",
     "text": [
      "[[-1. -1. -1.  0.  0.  0.]\n",
      " [ 1.  0.  0. -1.  0.  1.]\n",
      " [ 0.  1.  0.  0. -1.  0.]\n",
      " [ 0.  0.  1.  1.  1. -1.]]\n"
     ]
    }
   ],
   "source": [
    "A = nx.incidence_matrix(G_d,oriented=True).todense()\n",
    "print(A)\n",
    "\n",
    "\n"
   ]
  }
 ],
 "metadata": {
  "kernelspec": {
   "display_name": "Python 3",
   "language": "python",
   "name": "python3"
  },
  "language_info": {
   "codemirror_mode": {
    "name": "ipython",
    "version": 3
   },
   "file_extension": ".py",
   "mimetype": "text/x-python",
   "name": "python",
   "nbconvert_exporter": "python",
   "pygments_lexer": "ipython3",
   "version": "3.12.0"
  }
 },
 "nbformat": 4,
 "nbformat_minor": 2
}
